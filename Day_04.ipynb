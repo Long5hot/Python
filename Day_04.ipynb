{
 "cells": [
  {
   "cell_type": "code",
   "execution_count": 10,
   "id": "dc8cee80",
   "metadata": {},
   "outputs": [
    {
     "data": {
      "text/plain": [
       "9"
      ]
     },
     "execution_count": 10,
     "metadata": {},
     "output_type": "execute_result"
    }
   ],
   "source": [
    "import random\n",
    "random_int = random.randint(1,10)\n",
    "random_int"
   ]
  },
  {
   "cell_type": "code",
   "execution_count": 15,
   "id": "f0c71778",
   "metadata": {},
   "outputs": [
    {
     "data": {
      "text/plain": [
       "0.2537789265390864"
      ]
     },
     "execution_count": 15,
     "metadata": {},
     "output_type": "execute_result"
    }
   ],
   "source": [
    "random_float  = random.random()\n",
    "random_float"
   ]
  },
  {
   "cell_type": "code",
   "execution_count": 16,
   "id": "8654bf6f",
   "metadata": {},
   "outputs": [
    {
     "data": {
      "text/plain": [
       "1.268894632695432"
      ]
     },
     "execution_count": 16,
     "metadata": {},
     "output_type": "execute_result"
    }
   ],
   "source": [
    "random_float  = random.random()\n",
    "random_float\n",
    "random_float*5"
   ]
  },
  {
   "cell_type": "code",
   "execution_count": 17,
   "id": "38a6665b",
   "metadata": {},
   "outputs": [
    {
     "name": "stdout",
     "output_type": "stream",
     "text": [
      "Your love score is 21\n"
     ]
    }
   ],
   "source": [
    "love_score = random.randint(1,100)\n",
    "print(f'Your love score is {love_score}')"
   ]
  },
  {
   "cell_type": "code",
   "execution_count": 24,
   "id": "85857743",
   "metadata": {},
   "outputs": [
    {
     "data": {
      "text/plain": [
       "1.9547159271520786"
      ]
     },
     "execution_count": 24,
     "metadata": {},
     "output_type": "execute_result"
    }
   ],
   "source": [
    "import random\n",
    "\n",
    "random.seed(321)\n",
    "random_int = random.randint(1,10)\n",
    "random_int\n",
    "\n",
    "random_float  = random.random()\n",
    "random_float*5"
   ]
  },
  {
   "cell_type": "markdown",
   "id": "8b1dcfb3",
   "metadata": {},
   "source": [
    "## Virtual Coin Toss programme"
   ]
  },
  {
   "cell_type": "code",
   "execution_count": 26,
   "id": "aaf7873a",
   "metadata": {},
   "outputs": [
    {
     "name": "stdout",
     "output_type": "stream",
     "text": [
      "Create a seed number : 5456444\n",
      "Tails\n"
     ]
    }
   ],
   "source": [
    "import random\n",
    "\n",
    "test_seed = int(input('Create a seed number : '))\n",
    "random.seed(test_seed)\n",
    "\n",
    "random_side = random.randint(0,1)\n",
    "if random_side ==1:\n",
    "    print('Heads')\n",
    "else:\n",
    "    print('Tails')"
   ]
  },
  {
   "cell_type": "markdown",
   "id": "5db6543c",
   "metadata": {},
   "source": [
    "## Who's Paying"
   ]
  },
  {
   "cell_type": "code",
   "execution_count": 30,
   "id": "ed5025e4",
   "metadata": {},
   "outputs": [
    {
     "name": "stdout",
     "output_type": "stream",
     "text": [
      "Create a seed number : 87878878\n",
      "Give me everybody's name, seperated by comma.. : angela, ben, kishan, sasuke\n",
      "angelais going to buy meal today.\n"
     ]
    }
   ],
   "source": [
    "# test_seed = int(input('Create a seed number : '))\n",
    "# random.seed(test_seed)\n",
    "\n",
    "nameAsCSV = input('Give me everybody\\'s name, seperated by comma.. : ')\n",
    "\n",
    "names = nameAsCSV.split(',')\n",
    "\n",
    "num_names = len(names)\n",
    "\n",
    "# generate random number between 0 and last index\n",
    "random_choice = random.randint(0,num_names-1)\n",
    "\n",
    "\n",
    "print(names[random_choice] + ' is going to buy meal today.')"
   ]
  },
  {
   "cell_type": "code",
   "execution_count": 35,
   "id": "f646a06b",
   "metadata": {},
   "outputs": [
    {
     "name": "stdout",
     "output_type": "stream",
     "text": [
      "Give me everybody's name, seperated by comma.. : kishan, jay\n",
      " jay is going to buy meal today.\n"
     ]
    }
   ],
   "source": [
    "nameAsCSV = input('Give me everybody\\'s name, seperated by comma.. : ')\n",
    "\n",
    "names = nameAsCSV.split(',')\n",
    "\n",
    "random_choice = random.choice(names)\n",
    "print( random_choice+ ' is going to buy meal today.')"
   ]
  },
  {
   "cell_type": "markdown",
   "id": "6801e591",
   "metadata": {},
   "source": [
    "## Treasure Map"
   ]
  },
  {
   "cell_type": "code",
   "execution_count": 40,
   "id": "b1fb82fa",
   "metadata": {},
   "outputs": [
    {
     "name": "stdout",
     "output_type": "stream",
     "text": [
      "['⬜️', '⬜️', '⬜️']\n",
      " ['⬜️', '⬜️', '⬜️']\n",
      " ['⬜️', '⬜️', '⬜️']\n",
      "Where do you want to put the tresure? 23\n",
      "['⬜️', '⬜️', '⬜️']\n",
      " ['⬜️', '⬜️', 'X']\n",
      " ['⬜️', '⬜️', '⬜️']\n"
     ]
    }
   ],
   "source": [
    "row1 = [\"⬜️\",\"⬜️\",\"⬜️\"]\n",
    "row2 = [\"⬜️\",\"⬜️\",\"⬜️\"]\n",
    "row3 = [\"⬜️\",\"⬜️\",\"⬜️\"]\n",
    "\n",
    "map = [row1, row2, row3]\n",
    "print(f\"{row1}\\n {row2}\\n {row3}\")\n",
    "\n",
    "position = input('Where do you want to put the tresure? ')\n",
    "\n",
    "horizontal = int(position[0])\n",
    "vertical = int(position[1])\n",
    "\n",
    "map[horizontal - 1][vertical - 1] = 'X'\n",
    "\n",
    "\n",
    "\n",
    "print(f\"{row1}\\n {row2}\\n {row3}\")"
   ]
  },
  {
   "cell_type": "markdown",
   "id": "5fda641e",
   "metadata": {},
   "source": [
    "## Rock, Papers, Scissors Game"
   ]
  },
  {
   "cell_type": "code",
   "execution_count": 86,
   "id": "ea5fd676",
   "metadata": {},
   "outputs": [
    {
     "name": "stdout",
     "output_type": "stream",
     "text": [
      "What do you choose? Type 0 for ROCK, 1 for PAPER or 2 for SSCISSORS. 2\n",
      "\n",
      "    _______\n",
      "---'   ____)____\n",
      "          ______)\n",
      "       __________)\n",
      "      (____)\n",
      "---.__(___)\n",
      "\n",
      "Computer Chose  : \n",
      "\n",
      "    _______\n",
      "---'   ____)____\n",
      "          ______)\n",
      "          _______)\n",
      "         _______)\n",
      "---.__________)\n",
      "\n",
      "Computer chose 1\n",
      "You WON\n"
     ]
    }
   ],
   "source": [
    "import random\n",
    "\n",
    "rock = '''\n",
    "    _______\n",
    "---'   ____)\n",
    "      (_____)\n",
    "      (_____)\n",
    "      (____)\n",
    "---.__(___)\n",
    "'''\n",
    "\n",
    "paper = '''\n",
    "    _______\n",
    "---'   ____)____\n",
    "          ______)\n",
    "          _______)\n",
    "         _______)\n",
    "---.__________)\n",
    "'''\n",
    "\n",
    "scissors = '''\n",
    "    _______\n",
    "---'   ____)____\n",
    "          ______)\n",
    "       __________)\n",
    "      (____)\n",
    "---.__(___)\n",
    "'''\n",
    "\n",
    "game_images = [rock, paper, scissors]\n",
    "user_choice = int(input('What do you choose? Type 0 for ROCK, 1 for PAPER or 2 for SSCISSORS. '))\n",
    "\n",
    "print(game_images[user_choice])\n",
    "\n",
    "computer_choice = random.randint(0,2)\n",
    "\n",
    "print(f'Computer Chose  : ')\n",
    "print(game_images[computer_choice])\n",
    "\n",
    "print(f'Computer chose {computer_choice}')\n",
    "\n",
    "if user_choice >=3 or user_choice < 0:\n",
    "    print('You typed an invalid number you loose.')\n",
    "\n",
    "elif user_choice == 0 and computer_choice ==2:\n",
    "    print('You Win')\n",
    "elif computer_choice == 0 and user_choice == 2:\n",
    "    print('You loose')\n",
    "elif computer_choice > user_choice:\n",
    "    print('You lose')\n",
    "elif user_choice > computer_choice:\n",
    "    print('You WON')\n",
    "elif computer_choice == user_choice:\n",
    "    print('Its a DRAW.')\n"
   ]
  },
  {
   "cell_type": "code",
   "execution_count": null,
   "id": "0ce1bb82",
   "metadata": {},
   "outputs": [],
   "source": []
  }
 ],
 "metadata": {
  "kernelspec": {
   "display_name": "Python 3",
   "language": "python",
   "name": "python3"
  },
  "language_info": {
   "codemirror_mode": {
    "name": "ipython",
    "version": 3
   },
   "file_extension": ".py",
   "mimetype": "text/x-python",
   "name": "python",
   "nbconvert_exporter": "python",
   "pygments_lexer": "ipython3",
   "version": "3.8.8"
  }
 },
 "nbformat": 4,
 "nbformat_minor": 5
}
