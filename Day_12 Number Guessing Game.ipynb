{
 "cells": [
  {
   "cell_type": "markdown",
   "id": "d918acf0",
   "metadata": {},
   "source": [
    "## Scope"
   ]
  },
  {
   "cell_type": "code",
   "execution_count": 1,
   "id": "07b0331c",
   "metadata": {},
   "outputs": [
    {
     "name": "stdout",
     "output_type": "stream",
     "text": [
      "enemies inside function : 2\n",
      "enemies outside function : 1\n"
     ]
    }
   ],
   "source": [
    "enemies = 1\n",
    "\n",
    "def increase_enemies():\n",
    "    enemies = 2\n",
    "    print(f\"enemies inside function : {enemies}\")\n",
    "increase_enemies()\n",
    "print(f\"enemies outside function : {enemies}\")"
   ]
  },
  {
   "cell_type": "code",
   "execution_count": 2,
   "id": "a0817442",
   "metadata": {},
   "outputs": [
    {
     "name": "stdout",
     "output_type": "stream",
     "text": [
      "2\n"
     ]
    },
    {
     "ename": "NameError",
     "evalue": "name 'potion_strength' is not defined",
     "output_type": "error",
     "traceback": [
      "\u001b[1;31m---------------------------------------------------------------------------\u001b[0m",
      "\u001b[1;31mNameError\u001b[0m                                 Traceback (most recent call last)",
      "\u001b[1;32m<ipython-input-2-6714050cfa7f>\u001b[0m in \u001b[0;36m<module>\u001b[1;34m\u001b[0m\n\u001b[0;32m      3\u001b[0m     \u001b[0mprint\u001b[0m\u001b[1;33m(\u001b[0m\u001b[0mpotion_strength\u001b[0m\u001b[1;33m)\u001b[0m\u001b[1;33m\u001b[0m\u001b[1;33m\u001b[0m\u001b[0m\n\u001b[0;32m      4\u001b[0m \u001b[0mdrink_potion\u001b[0m\u001b[1;33m(\u001b[0m\u001b[1;33m)\u001b[0m\u001b[1;33m\u001b[0m\u001b[1;33m\u001b[0m\u001b[0m\n\u001b[1;32m----> 5\u001b[1;33m \u001b[0mprint\u001b[0m\u001b[1;33m(\u001b[0m\u001b[0mpotion_strength\u001b[0m\u001b[1;33m)\u001b[0m\u001b[1;33m\u001b[0m\u001b[1;33m\u001b[0m\u001b[0m\n\u001b[0m",
      "\u001b[1;31mNameError\u001b[0m: name 'potion_strength' is not defined"
     ]
    }
   ],
   "source": [
    "def drink_potion():\n",
    "    potion_strength = 2\n",
    "    print(potion_strength)\n",
    "drink_potion()\n",
    "print(potion_strength)"
   ]
  },
  {
   "cell_type": "code",
   "execution_count": 4,
   "id": "06fe505b",
   "metadata": {},
   "outputs": [
    {
     "data": {
      "text/plain": [
       "10"
      ]
     },
     "execution_count": 4,
     "metadata": {},
     "output_type": "execute_result"
    }
   ],
   "source": [
    "if 3>2:\n",
    "    a_variable = 10\n",
    "a_variable"
   ]
  },
  {
   "cell_type": "code",
   "execution_count": 12,
   "id": "71f2501e",
   "metadata": {},
   "outputs": [
    {
     "name": "stdout",
     "output_type": "stream",
     "text": [
      "skeleton\n"
     ]
    }
   ],
   "source": [
    "game_level = 3\n",
    "def create_enemy():\n",
    "    enemies = ['skeleton', 'zombie', 'alien']\n",
    "\n",
    "    if game_level<5:\n",
    "        new_enem = enemies[0]\n",
    "\n",
    "    print(new_enem)\n",
    "create_enemy()"
   ]
  },
  {
   "cell_type": "code",
   "execution_count": 16,
   "id": "deaadbd5",
   "metadata": {},
   "outputs": [
    {
     "name": "stdout",
     "output_type": "stream",
     "text": [
      "enemies inside function : 2\n",
      "enemies outside function : 2\n"
     ]
    }
   ],
   "source": [
    "enemies = 1\n",
    "\n",
    "def increase_enemies():\n",
    "    global enemies\n",
    "    enemies += 1\n",
    "    print(f\"enemies inside function : {enemies}\")\n",
    "increase_enemies()\n",
    "print(f\"enemies outside function : {enemies}\")"
   ]
  },
  {
   "cell_type": "code",
   "execution_count": 19,
   "id": "d7c7a712",
   "metadata": {},
   "outputs": [
    {
     "data": {
      "text/plain": [
       "4.56"
      ]
     },
     "execution_count": 19,
     "metadata": {},
     "output_type": "execute_result"
    }
   ],
   "source": [
    "PI = 3.14159"
   ]
  },
  {
   "cell_type": "markdown",
   "id": "2dfad9a7",
   "metadata": {},
   "source": [
    "# Number Guessing Game"
   ]
  },
  {
   "cell_type": "code",
   "execution_count": 14,
   "id": "f177155f",
   "metadata": {},
   "outputs": [],
   "source": [
    "logo = \"\"\"\n",
    " _____                       _____ _            _   _                 _               \n",
    "|  __ \\                     |_   _| |          | \\ | |               | |              \n",
    "| |  \\/_   _  ___  ___ ___    | | | |__   ___  |  \\| |_   _ _ __ ___ | |__   ___ _ __ \n",
    "| | __| | | |/ _ \\/ __/ __|   | | | '_ \\ / _ \\ | . ` | | | | '_ ` _ \\| '_ \\ / _ \\ '__|\n",
    "| |_\\ \\ |_| |  __/\\__ \\__ \\   | | | | | |  __/ | |\\  | |_| | | | | | | |_) |  __/ |   \n",
    " \\____/\\__,_|\\___||___/___/   \\_/ |_| |_|\\___| \\_| \\_/\\__,_|_| |_| |_|_.__/ \\___|_|   \n",
    "\"\"\""
   ]
  },
  {
   "cell_type": "code",
   "execution_count": 15,
   "id": "fee75662",
   "metadata": {},
   "outputs": [
    {
     "name": "stdout",
     "output_type": "stream",
     "text": [
      "\n",
      " _____                       _____ _            _   _                 _               \n",
      "|  __ \\                     |_   _| |          | \\ | |               | |              \n",
      "| |  \\/_   _  ___  ___ ___    | | | |__   ___  |  \\| |_   _ _ __ ___ | |__   ___ _ __ \n",
      "| | __| | | |/ _ \\/ __/ __|   | | | '_ \\ / _ \\ | . ` | | | | '_ ` _ \\| '_ \\ / _ \\ '__|\n",
      "| |_\\ \\ |_| |  __/\\__ \\__ \\   | | | | | |  __/ | |\\  | |_| | | | | | | |_) |  __/ |   \n",
      " \\____/\\__,_|\\___||___/___/   \\_/ |_| |_|\\___| \\_| \\_/\\__,_|_| |_| |_|_.__/ \\___|_|   \n",
      "\n"
     ]
    }
   ],
   "source": [
    "print(logo)"
   ]
  },
  {
   "cell_type": "markdown",
   "id": "68e60ea6",
   "metadata": {},
   "source": [
    "## MyCode"
   ]
  },
  {
   "cell_type": "code",
   "execution_count": 12,
   "id": "432f0b1f",
   "metadata": {},
   "outputs": [
    {
     "name": "stdout",
     "output_type": "stream",
     "text": [
      "\n",
      " _____                       _____ _            _   _                 _               \n",
      "|  __ \\                     |_   _| |          | \\ | |               | |              \n",
      "| |  \\/_   _  ___  ___ ___    | | | |__   ___  |  \\| |_   _ _ __ ___ | |__   ___ _ __ \n",
      "| | __| | | |/ _ \\/ __/ __|   | | | '_ \\ / _ \\ | . ` | | | | '_ ` _ \\| '_ \\ / _ \\ '__|\n",
      "| |_\\ \\ |_| |  __/\\__ \\__ \\   | | | | | |  __/ | |\\  | |_| | | | | | | |_) |  __/ |   \n",
      " \\____/\\__,_|\\___||___/___/   \\_/ |_| |_|\\___| \\_| \\_/\\__,_|_| |_| |_|_.__/ \\___|_|   \n",
      "\n",
      "Welcome to the number guessing game!\n",
      "Choose the difficulty. Type 'E' for easy, 'M' for medium or 'H' for 'hard'. m\n",
      "I'm thinking the number between 1 and 50. \n",
      "You have 5 attempts left.\n",
      "Make a guess :  25\n",
      "Wrong! Too Low!\n",
      "You have 4 attempts left.\n",
      "Make a guess :  35\n",
      "Wrong! Too Low!\n",
      "You have 3 attempts left.\n",
      "Make a guess :  45\n",
      "Wrong! Too Low!\n",
      "You have 2 attempts left.\n",
      "Make a guess :  47\n",
      "Wrong! Too Low!\n",
      "You have 1 attempts left.\n",
      "Make a guess :  49\n",
      "Wrong! Too High!\n",
      "You Losse!\n"
     ]
    }
   ],
   "source": [
    "print(logo)\n",
    "import random\n",
    "print(\"Welcome to the number guessing game!\")\n",
    "level = input(\"Choose the difficulty. Type 'E' for easy, 'M' for medium or 'H' for 'hard'. \").lower()\n",
    "\n",
    "if level == 'e':\n",
    "    lives = 10\n",
    "    number = random.randint(1,100)\n",
    "    should_continue = True\n",
    "    print(\"I'm thinking the number between 1 and 100. \")\n",
    "    while should_continue:\n",
    "        if lives > 0:\n",
    "            print(f\"You have {lives} attempts left.\")\n",
    "            guess = int(input(\"Make a guess :  \"))\n",
    "            if guess == number:\n",
    "                print(f\"Yupppp, The number was {number}\")\n",
    "                should_continue = False\n",
    "            elif guess > number:\n",
    "                print(\"Wrong! Too High!\")\n",
    "                lives-=1\n",
    "            elif guess < number:\n",
    "                print(\"Wrong! Too Low!\")\n",
    "                lives-=1\n",
    "        else:\n",
    "            print(\"You Losse!\")\n",
    "            should_continue = False\n",
    "            \n",
    "# Copy and Paste Rest of the code\n",
    "\n",
    "elif level == 'm':\n",
    "    lives = 5\n",
    "    number = random.randint(1,50)\n",
    "    should_continue = True\n",
    "    print(\"I'm thinking the number between 1 and 50. \")\n",
    "    while should_continue:\n",
    "        if lives > 0:\n",
    "            print(f\"You have {lives} attempts left.\")\n",
    "            guess = int(input(\"Make a guess :  \"))\n",
    "            if guess == number:\n",
    "                print(f\"Yupppp, The number was {number}\")\n",
    "                should_continue = False\n",
    "            elif guess > number:\n",
    "                print(\"Wrong! Too High!\")\n",
    "                lives-=1\n",
    "            elif guess < number:\n",
    "                print(\"Wrong! Too Low!\")\n",
    "                lives-=1\n",
    "        else:\n",
    "            print(\"You Losse!\")\n",
    "            should_continue = False\n",
    "else:\n",
    "    lives = 5\n",
    "    number = random.randint(1,100)\n",
    "    should_continue = True\n",
    "    print(\"I'm thinking the number between 1 and 100.\")\n",
    "    while should_continue:\n",
    "        if lives > 0:\n",
    "            print(f\"You have {lives} attempts left.\")\n",
    "            guess = int(input(\"Make a guess :  \"))\n",
    "            if guess == number:\n",
    "                print(f\"Yupppp, The number was {number}\")\n",
    "                should_continue = False\n",
    "            elif guess > number:\n",
    "                print(\"Wrong! Too High!\")\n",
    "                lives-=1\n",
    "            elif guess < number:\n",
    "                print(\"Wrong! Too Low!\")\n",
    "                lives-=1\n",
    "        else:\n",
    "            print(\"You Losse!\")\n",
    "            should_continue = False"
   ]
  },
  {
   "cell_type": "markdown",
   "id": "d933ed37",
   "metadata": {},
   "source": [
    "## Instructor's Code"
   ]
  },
  {
   "cell_type": "code",
   "execution_count": 16,
   "id": "36d8aad8",
   "metadata": {
    "scrolled": true
   },
   "outputs": [
    {
     "name": "stdout",
     "output_type": "stream",
     "text": [
      "\n",
      " _____                       _____ _            _   _                 _               \n",
      "|  __ \\                     |_   _| |          | \\ | |               | |              \n",
      "| |  \\/_   _  ___  ___ ___    | | | |__   ___  |  \\| |_   _ _ __ ___ | |__   ___ _ __ \n",
      "| | __| | | |/ _ \\/ __/ __|   | | | '_ \\ / _ \\ | . ` | | | | '_ ` _ \\| '_ \\ / _ \\ '__|\n",
      "| |_\\ \\ |_| |  __/\\__ \\__ \\   | | | | | |  __/ | |\\  | |_| | | | | | | |_) |  __/ |   \n",
      " \\____/\\__,_|\\___||___/___/   \\_/ |_| |_|\\___| \\_| \\_/\\__,_|_| |_| |_|_.__/ \\___|_|   \n",
      "\n",
      "Welcome to the Number Guessing Game.\n",
      "I'm thinking of a number between 1 and 100.\n",
      "56\n",
      "Choose the difficulty. Type 'E' for easy, 'M' for medium or 'H' for 'hard'. m\n",
      "You have 5 attmpts remaining to guess the number. \n",
      "Make a Guess : 50\n",
      "Too Low!\n",
      "Guess Again!\n",
      "You have 4 attmpts remaining to guess the number. \n",
      "Make a Guess : 56\n",
      "You got it! The answer was 56.\n"
     ]
    }
   ],
   "source": [
    "from random import randint\n",
    "\n",
    "EASY_LEVEL_TURNS = 10\n",
    "HARD_LEVEL_TURNS = 5\n",
    "\n",
    "\n",
    "def check_answer(guess, answer, turns):\n",
    "    \"\"\"Check answers against guess, returns number of turns remaining\"\"\"\n",
    "    if guess > answer:\n",
    "        print(\"Too High!\")\n",
    "        return turns-1\n",
    "    elif guess < answer:\n",
    "        print(\"Too Low!\")\n",
    "        return turns-1\n",
    "    else:\n",
    "        print(f\"You got it! The answer was {answer}.\")\n",
    "        \n",
    "def set_difficulty():\n",
    "    level = input(\"Choose the difficulty. Type 'E' for easy, 'M' for medium or 'H' for 'hard'. \").lower()\n",
    "    if level == 'e':\n",
    "        return EASY_LEVEL_TURNS\n",
    "    else:\n",
    "        return HARD_LEVEL_TURNS\n",
    "    \n",
    "def game():\n",
    "    print(logo)\n",
    "    print(\"Welcome to the Number Guessing Game.\")\n",
    "    print(\"I'm thinking of a number between 1 and 100.\")\n",
    "\n",
    "    answer = randint(1,100)\n",
    "    print(answer)\n",
    "\n",
    "    turns = set_difficulty()\n",
    "    \n",
    "    guess = 0\n",
    "    while guess != answer:\n",
    "        print(f\"You have {turns} attmpts remaining to guess the number. \")\n",
    "\n",
    "        guess = int(input(\"Make a Guess : \"))\n",
    "        turns = check_answer(guess, answer, turns)\n",
    "        if turns == 0:\n",
    "            print(f\"You have run out of guesses, you lose.\")\n",
    "            return \n",
    "        elif guess != answer:\n",
    "            print(\"Guess Again!\")\n",
    "            \n",
    "game()"
   ]
  },
  {
   "cell_type": "code",
   "execution_count": null,
   "id": "90c1262e",
   "metadata": {},
   "outputs": [],
   "source": []
  }
 ],
 "metadata": {
  "kernelspec": {
   "display_name": "Python 3",
   "language": "python",
   "name": "python3"
  },
  "language_info": {
   "codemirror_mode": {
    "name": "ipython",
    "version": 3
   },
   "file_extension": ".py",
   "mimetype": "text/x-python",
   "name": "python",
   "nbconvert_exporter": "python",
   "pygments_lexer": "ipython3",
   "version": "3.8.8"
  }
 },
 "nbformat": 4,
 "nbformat_minor": 5
}
