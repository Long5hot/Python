{
 "cells": [
  {
   "cell_type": "code",
   "execution_count": 18,
   "id": "704e79fc",
   "metadata": {},
   "outputs": [],
   "source": [
    "programming_dictionary = {\n",
    "    'Bug' : 'An error',\n",
    "    \"Function\" : 'A Piece of Code',\n",
    "    \"Loop\" : 'Loop'\n",
    "}"
   ]
  },
  {
   "cell_type": "code",
   "execution_count": 12,
   "id": "1ab69d31",
   "metadata": {},
   "outputs": [
    {
     "name": "stdout",
     "output_type": "stream",
     "text": [
      "{'Bug': 'An error', 'Function': 'A Piece of Code', 'Loop': 'Loop'}\n"
     ]
    }
   ],
   "source": [
    "print(programming_dictionary)"
   ]
  },
  {
   "cell_type": "code",
   "execution_count": 13,
   "id": "73b26556",
   "metadata": {},
   "outputs": [],
   "source": [
    "programming_dictionary['Loops'] = 'The Action of doing over and over again'"
   ]
  },
  {
   "cell_type": "code",
   "execution_count": 14,
   "id": "fc8b7bc8",
   "metadata": {},
   "outputs": [
    {
     "data": {
      "text/plain": [
       "{'Bug': 'An error',\n",
       " 'Function': 'A Piece of Code',\n",
       " 'Loop': 'Loop',\n",
       " 'Loops': 'The Action of doing over and over again'}"
      ]
     },
     "execution_count": 14,
     "metadata": {},
     "output_type": "execute_result"
    }
   ],
   "source": [
    "programming_dictionary"
   ]
  },
  {
   "cell_type": "code",
   "execution_count": 15,
   "id": "2a6f60be",
   "metadata": {},
   "outputs": [],
   "source": [
    "empty_dictionary = {}"
   ]
  },
  {
   "cell_type": "code",
   "execution_count": 16,
   "id": "9952e95b",
   "metadata": {},
   "outputs": [],
   "source": [
    "# programming_dictionary = {}"
   ]
  },
  {
   "cell_type": "code",
   "execution_count": 19,
   "id": "2dfc9343",
   "metadata": {},
   "outputs": [
    {
     "data": {
      "text/plain": [
       "{'Bug': 'An error', 'Function': 'A Piece of Code', 'Loop': 'Loop'}"
      ]
     },
     "execution_count": 19,
     "metadata": {},
     "output_type": "execute_result"
    }
   ],
   "source": [
    "programming_dictionary"
   ]
  },
  {
   "cell_type": "code",
   "execution_count": 20,
   "id": "cb9bc422",
   "metadata": {},
   "outputs": [
    {
     "data": {
      "text/plain": [
       "'An error'"
      ]
     },
     "execution_count": 20,
     "metadata": {},
     "output_type": "execute_result"
    }
   ],
   "source": [
    "programming_dictionary['Bug']"
   ]
  },
  {
   "cell_type": "code",
   "execution_count": 21,
   "id": "fb4cb597",
   "metadata": {},
   "outputs": [],
   "source": [
    "programming_dictionary['Bug'] = 'LOL Error'"
   ]
  },
  {
   "cell_type": "code",
   "execution_count": 22,
   "id": "bc60120c",
   "metadata": {},
   "outputs": [
    {
     "data": {
      "text/plain": [
       "{'Bug': 'LOL Error', 'Function': 'A Piece of Code', 'Loop': 'Loop'}"
      ]
     },
     "execution_count": 22,
     "metadata": {},
     "output_type": "execute_result"
    }
   ],
   "source": [
    "programming_dictionary"
   ]
  },
  {
   "cell_type": "code",
   "execution_count": 28,
   "id": "62f05aca",
   "metadata": {},
   "outputs": [
    {
     "name": "stdout",
     "output_type": "stream",
     "text": [
      "LOL Error\n",
      "A Piece of Code\n",
      "Loop\n"
     ]
    }
   ],
   "source": [
    "for key in programming_dictionary:\n",
    "    print(programming_dictionary[key])"
   ]
  },
  {
   "cell_type": "code",
   "execution_count": 29,
   "id": "6328e18d",
   "metadata": {},
   "outputs": [],
   "source": []
  },
  {
   "cell_type": "code",
   "execution_count": 42,
   "id": "2ec834d2",
   "metadata": {},
   "outputs": [],
   "source": [
    "student_scores = {\n",
    "    'Harry' : 81,\n",
    "    'Ron' : 78,\n",
    "    'Hermione' : 99,\n",
    "    'Draco' : 74,\n",
    "    'Neville' : 62\n",
    "}\n",
    "\n",
    "student_grades = {}\n",
    "\n",
    "for students in  student_scores:\n",
    "    if 91 <= student_scores[students] < 100 :\n",
    "        student_grades[students] = 'Outstanding'\n",
    "        \n",
    "    elif 81 <= student_scores[students] <= 90 :\n",
    "        student_grades[students] = 'Exceeds Expectations'\n",
    "        \n",
    "    elif 71 <= student_scores[students] <= 80 : \n",
    "        student_grades[students] = 'Acceptable'\n",
    "    else:\n",
    "        student_grades[students] = 'Fail'"
   ]
  },
  {
   "cell_type": "code",
   "execution_count": 43,
   "id": "01350c93",
   "metadata": {},
   "outputs": [
    {
     "data": {
      "text/plain": [
       "{'Harry': 'Exceeds Expectations',\n",
       " 'Ron': 'Acceptable',\n",
       " 'Hermione': 'Outstanding',\n",
       " 'Draco': 'Acceptable',\n",
       " 'Neville': 'Fail'}"
      ]
     },
     "execution_count": 43,
     "metadata": {},
     "output_type": "execute_result"
    }
   ],
   "source": [
    "student_grades"
   ]
  },
  {
   "cell_type": "code",
   "execution_count": 44,
   "id": "8991db12",
   "metadata": {},
   "outputs": [
    {
     "data": {
      "text/plain": [
       "{'Harry': 'Exceeds Expectaions',\n",
       " 'Ron': 'Acceptable',\n",
       " 'Hermione': 'Outstanding',\n",
       " 'Draco': 'Acceptable',\n",
       " 'Neville': 'Fail'}"
      ]
     },
     "execution_count": 44,
     "metadata": {},
     "output_type": "execute_result"
    }
   ],
   "source": [
    "student_grades = {}\n",
    "\n",
    "for student in student_scores:\n",
    "    score = student_scores[student]\n",
    "    if score > 90:\n",
    "        student_grades[student] = 'Outstanding'\n",
    "    elif score > 80 :\n",
    "        student_grades[student] = 'Exceeds Expectaions'\n",
    "    elif score > 70 :\n",
    "        student_grades[student] = 'Acceptable'\n",
    "    else:\n",
    "        student_grades[student] = 'Fail'\n",
    "\n",
    "student_grades"
   ]
  },
  {
   "cell_type": "code",
   "execution_count": 64,
   "id": "e015d875",
   "metadata": {},
   "outputs": [
    {
     "name": "stdout",
     "output_type": "stream",
     "text": [
      "[{'country': 'France', 'visits': 12, 'cities': ['Paris', 'Lille', 'Dijon']}, {'country': 'Germany', 'visits': 5, 'cities': ['Berlin', 'Hamburg', 'Stuttgart']}, {'country': 'Russia', 'visits': 2, 'cities': ['Moscow', 'Saint Petersberg']}]\n"
     ]
    }
   ],
   "source": [
    "travel_log = [\n",
    "{\n",
    "  \"country\": \"France\",\n",
    "  \"visits\": 12,\n",
    "  \"cities\": [\"Paris\", \"Lille\", \"Dijon\"]\n",
    "},\n",
    "{\n",
    "  \"country\": \"Germany\",\n",
    "  \"visits\": 5,\n",
    "  \"cities\": [\"Berlin\", \"Hamburg\", \"Stuttgart\"]\n",
    "},\n",
    "]\n",
    "#🚨 Do NOT change the code above\n",
    "\n",
    "#TODO: Write the function that will allow new countries\n",
    "#to be added to the travel_log. 👇\n",
    "\n",
    "def add_new_country(country_visited, times_visits, cities_visited):\n",
    "    new_country = {}\n",
    "    new_country[\"country\"] = country_visited \n",
    "    new_country[\"visits\"] = times_visits\n",
    "    new_country[\"cities\"] = cities_visited\n",
    "    travel_log.append(new_country)\n",
    "\n",
    "\n",
    "#🚨 Do not change the code below\n",
    "add_new_country(\"Russia\", 2, [\"Moscow\", \"Saint Petersberg\"])\n",
    "print(travel_log)\n"
   ]
  },
  {
   "cell_type": "markdown",
   "id": "fa6f7a4f",
   "metadata": {},
   "source": [
    "## Blind Auction"
   ]
  },
  {
   "cell_type": "code",
   "execution_count": 65,
   "id": "ae60f98a",
   "metadata": {},
   "outputs": [
    {
     "name": "stdout",
     "output_type": "stream",
     "text": [
      "\n",
      "                         ___________\n",
      "                         \\         /\n",
      "                          )_______(\n",
      "                          |\"\"\"\"\"\"\"|_.-._,.---------.,_.-._\n",
      "                          |       | | |               | | ''-.\n",
      "                          |       |_| |_             _| |_..-'\n",
      "                          |_______| '-' `'---------'` '-'\n",
      "                          )\"\"\"\"\"\"\"(\n",
      "                         /_________\\\n",
      "                       .-------------.\n",
      "                      /_______________\\\n",
      "\n"
     ]
    }
   ],
   "source": [
    "logo = '''\n",
    "                         ___________\n",
    "                         \\         /\n",
    "                          )_______(\n",
    "                          |\"\"\"\"\"\"\"|_.-._,.---------.,_.-._\n",
    "                          |       | | |               | | ''-.\n",
    "                          |       |_| |_             _| |_..-'\n",
    "                          |_______| '-' `'---------'` '-'\n",
    "                          )\"\"\"\"\"\"\"(\n",
    "                         /_________\\\\\n",
    "                       .-------------.\n",
    "                      /_______________\\\\\n",
    "'''\n",
    "\n",
    "print(logo)"
   ]
  },
  {
   "cell_type": "code",
   "execution_count": 66,
   "id": "ae07dde5",
   "metadata": {},
   "outputs": [
    {
     "name": "stdout",
     "output_type": "stream",
     "text": [
      "\n",
      "                         ___________\n",
      "                         \\         /\n",
      "                          )_______(\n",
      "                          |\"\"\"\"\"\"\"|_.-._,.---------.,_.-._\n",
      "                          |       | | |               | | ''-.\n",
      "                          |       |_| |_             _| |_..-'\n",
      "                          |_______| '-' `'---------'` '-'\n",
      "                          )\"\"\"\"\"\"\"(\n",
      "                         /_________\\\n",
      "                       .-------------.\n",
      "                      /_______________\\\n",
      "\n",
      "What is your name? : Krushn\n",
      "What is your Bid? : $124\n",
      "Are there any other bidders? Type 'yes' or 'no'. yes\n",
      "What is your name? : jknjjsnfl\n",
      "What is your Bid? : $878\n",
      "Are there any other bidders? Type 'yes' or 'no'. yes\n",
      "What is your name? : ijdoiwjiwj\n",
      "What is your Bid? : $784\n",
      "Are there any other bidders? Type 'yes' or 'no'. no\n",
      "The winner is jknjjsnfl with the bid amount of $878\n"
     ]
    }
   ],
   "source": [
    "print(logo)\n",
    "\n",
    "bids= {}\n",
    "bidding_finished = False\n",
    "\n",
    "def find_highest_bidder(bidding_record):\n",
    "    highest_bid = 0\n",
    "    winner= ''\n",
    "    for bidder in bidding_record:\n",
    "        bid_amount = bidding_record[bidder]\n",
    "        if bid_amount > highest_bid:\n",
    "            highest_bid = bid_amount\n",
    "            winner = bidder \n",
    "    print(f\"The winner is {winner} with the bid amount of ${highest_bid}\")\n",
    "\n",
    "while not bidding_finished:\n",
    "    name = input('What is your name? : ')\n",
    "    price = int(input(\"What is your Bid? : $\"))\n",
    "    bids[name] = price\n",
    "    shoud_continue = input(\"Are there any other bidders? Type 'yes' or 'no'. \").lower()\n",
    "    if shoud_continue == 'no':\n",
    "        bidding_finished = True\n",
    "        find_highest_bidder(bids)\n",
    "        \n"
   ]
  },
  {
   "cell_type": "code",
   "execution_count": null,
   "id": "f8506ac9",
   "metadata": {},
   "outputs": [],
   "source": []
  }
 ],
 "metadata": {
  "kernelspec": {
   "display_name": "Python 3",
   "language": "python",
   "name": "python3"
  },
  "language_info": {
   "codemirror_mode": {
    "name": "ipython",
    "version": 3
   },
   "file_extension": ".py",
   "mimetype": "text/x-python",
   "name": "python",
   "nbconvert_exporter": "python",
   "pygments_lexer": "ipython3",
   "version": "3.8.8"
  }
 },
 "nbformat": 4,
 "nbformat_minor": 5
}
