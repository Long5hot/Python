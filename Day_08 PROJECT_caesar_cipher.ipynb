{
 "cells": [
  {
   "cell_type": "code",
   "execution_count": null,
   "id": "a814a2af",
   "metadata": {},
   "outputs": [],
   "source": [
    "# Functions with more than 1 input"
   ]
  },
  {
   "cell_type": "code",
   "execution_count": null,
   "id": "bf424aff",
   "metadata": {},
   "outputs": [],
   "source": [
    "def greet_with(name, location):\n",
    "    print(f'Hello {name}')\n",
    "    print(f'What it is like in {location}')"
   ]
  },
  {
   "cell_type": "code",
   "execution_count": null,
   "id": "ce5f086d",
   "metadata": {},
   "outputs": [],
   "source": [
    "greet_with('dev', 'Ahmedabad')"
   ]
  },
  {
   "cell_type": "code",
   "execution_count": null,
   "id": "3e6d5cc0",
   "metadata": {},
   "outputs": [],
   "source": [
    "greet_with('NoWHere', 'Dev')"
   ]
  },
  {
   "cell_type": "code",
   "execution_count": null,
   "id": "ec3f214b",
   "metadata": {},
   "outputs": [],
   "source": [
    "greet_with( location='Ahmedabad',name = 'Dev')"
   ]
  },
  {
   "cell_type": "markdown",
   "id": "d6d0f6f5",
   "metadata": {},
   "source": [
    "## Paint Area Calculator"
   ]
  },
  {
   "cell_type": "code",
   "execution_count": null,
   "id": "e350a3d7",
   "metadata": {},
   "outputs": [],
   "source": [
    "test_h = int(input('Height of wall in M : '))\n",
    "test_w = int(input('Width of wall in M : '))\n",
    "coverage = 5\n",
    "\n",
    "import math\n",
    "\n",
    "def paint_calc(height, width, cover):\n",
    "    area = height * width\n",
    "    number_of_cans = math.ceil(area/cover)  # Round the decimal number to nearest whole number\n",
    "    print(f'There are {number_of_cans} cans required.')\n",
    "    \n",
    "paint_calc(height = test_h, width = test_w, cover = coverage)  "
   ]
  },
  {
   "cell_type": "markdown",
   "id": "3c279476",
   "metadata": {},
   "source": [
    "## Prime Number Checker"
   ]
  },
  {
   "cell_type": "code",
   "execution_count": null,
   "id": "f6ee7ab3",
   "metadata": {},
   "outputs": [],
   "source": [
    "def prime_checker(number):\n",
    "    is_prime = True\n",
    "    for i in range(2,number):\n",
    "        if number%i == 0 : # Not a prime\n",
    "            is_prime = False\n",
    "    if is_prime :\n",
    "        print('It\\'s a Prime Number')\n",
    "    else:\n",
    "        print('Its Not a prime number')"
   ]
  },
  {
   "cell_type": "code",
   "execution_count": null,
   "id": "10dd2496",
   "metadata": {},
   "outputs": [],
   "source": [
    "prime_checker(6)"
   ]
  },
  {
   "cell_type": "markdown",
   "id": "561cc98f",
   "metadata": {},
   "source": [
    "## Caesar Cipher"
   ]
  },
  {
   "cell_type": "code",
   "execution_count": 7,
   "id": "254902b6",
   "metadata": {},
   "outputs": [],
   "source": [
    "alphabet = ['a', 'b', 'c', 'd', 'e', 'f', 'g', 'h', 'i', 'j', 'k', 'l', 'm', 'n', 'o', 'p', 'q', 'r', 's', 't', 'u', 'v', 'w', 'x', 'y', 'z','a', 'b', 'c', 'd', 'e', 'f', 'g', 'h', 'i', 'j', 'k', 'l', 'm', 'n', 'o', 'p', 'q', 'r', 's', 't', 'u', 'v', 'w', 'x', 'y', 'z']"
   ]
  },
  {
   "cell_type": "code",
   "execution_count": null,
   "id": "3a6b8d71",
   "metadata": {},
   "outputs": [],
   "source": [
    "# direction = input(\"Type 'encode' to encrypt, Type 'decode' to decrypt  :  \\n\").lower()\n",
    "# text = input(\"Type Your Message  :  \\n\").lower()\n",
    "# shift = int(input('Type the shift number  :  \\n'))\n",
    "\n",
    "# def encrypt(plain_text , shift_amount):\n",
    "#     cipher_text = ''\n",
    "#     for letter in plain_text:\n",
    "#         position = alphabet.index(letter)\n",
    "#         new_position = position + shift_amount\n",
    "#         new_letter = alphabet[new_position]\n",
    "#         cipher_text += new_letter\n",
    "#     print(f'The encoded text is {cipher_text}')\n",
    "    \n",
    "# def decrypt(cipher_text, shift_amount):\n",
    "#     decoded_text = ''\n",
    "#     for letter in cipher_text:\n",
    "#         position = alphabet.index(letter)\n",
    "#         new_position = position - shift_amount\n",
    "#         new_letter = alphabet[new_position]\n",
    "#         decoded_text += new_letter\n",
    "#     print(f'The Decoded Text is  :  {decoded_text}')\n",
    "        \n",
    "\n",
    "# if direction == 'encode':\n",
    "#     encrypt(plain_text= text, shift_amount = shift)\n",
    "# elif direction == 'decode':\n",
    "#     decrypt(cipher_text= text, shift_amount = shift)\n",
    "    "
   ]
  },
  {
   "cell_type": "code",
   "execution_count": 11,
   "id": "eae777bf",
   "metadata": {},
   "outputs": [
    {
     "name": "stdout",
     "output_type": "stream",
     "text": [
      "           \n",
      " ,adPPYba, ,adPPYYba,  ,adPPYba, ,adPPYba, ,adPPYYba, 8b,dPPYba,  \n",
      "a8\"     \"\" \"\"     `Y8 a8P_____88 I8[    \"\" \"\"     `Y8 88P'   \"Y8  \n",
      "8b         ,adPPPPP88 8PP\"  `\"Y8ba,  ,adPPPPP88 88          \n",
      "\"8a,   ,aa 88,    ,88 \"8b,   ,aa aa    ]8I 88,    ,88 88          \n",
      " `\"Ybbd8\"' `\"8bbdP\"Y8  `\"Ybbd8\"' `\"YbbdP\"' `\"8bbdP\"Y8 88   \n",
      "            88             88                                 \n",
      "           \"\"             88                                 \n",
      "                          88                                 \n",
      " ,adPPYba, 88 8b,dPPYba,  88,dPPYba,   ,adPPYba, 8b,dPPYba,  \n",
      "a8\"     \"\" 88 88P'    \"8a 88P'    \"8a a8P_____88 88P'   \"Y8  \n",
      "8b         88 88       d8 88       88 8PP\" 88          \n",
      "\"8a,   ,aa 88 88b,   ,a8\" 88       88 \"8b,   ,aa 88          \n",
      " `\"Ybbd8\"' 88 88`YbbdP\"'  88       88  `\"Ybbd8\"' 88          \n",
      "              88                                             \n",
      "              88           \n",
      "\n"
     ]
    }
   ],
   "source": [
    "logo = \"\"\"           \n",
    " ,adPPYba, ,adPPYYba,  ,adPPYba, ,adPPYba, ,adPPYYba, 8b,dPPYba,  \n",
    "a8\"     \"\" \"\"     `Y8 a8P_____88 I8[    \"\" \"\"     `Y8 88P'   \"Y8  \n",
    "8b         ,adPPPPP88 8PP\"\"\"\"\"\"\"  `\"Y8ba,  ,adPPPPP88 88          \n",
    "\"8a,   ,aa 88,    ,88 \"8b,   ,aa aa    ]8I 88,    ,88 88          \n",
    " `\"Ybbd8\"' `\"8bbdP\"Y8  `\"Ybbd8\"' `\"YbbdP\"' `\"8bbdP\"Y8 88   \n",
    "            88             88                                 \n",
    "           \"\"             88                                 \n",
    "                          88                                 \n",
    " ,adPPYba, 88 8b,dPPYba,  88,dPPYba,   ,adPPYba, 8b,dPPYba,  \n",
    "a8\"     \"\" 88 88P'    \"8a 88P'    \"8a a8P_____88 88P'   \"Y8  \n",
    "8b         88 88       d8 88       88 8PP\"\"\"\"\"\"\" 88          \n",
    "\"8a,   ,aa 88 88b,   ,a8\" 88       88 \"8b,   ,aa 88          \n",
    " `\"Ybbd8\"' 88 88`YbbdP\"'  88       88  `\"Ybbd8\"' 88          \n",
    "              88                                             \n",
    "              88           \n",
    "\"\"\"\n",
    "\n",
    "print(logo)"
   ]
  },
  {
   "cell_type": "code",
   "execution_count": 10,
   "id": "47410b50",
   "metadata": {},
   "outputs": [
    {
     "name": "stdout",
     "output_type": "stream",
     "text": [
      "Type 'encode' to encrypt, Type 'decode' to decrypt  :  \n",
      "encode\n",
      "Type Your Message  :  \n",
      "apple\n",
      "Type the shift number  :  \n",
      "4\n",
      "The encoded Text is ettpi\n"
     ]
    }
   ],
   "source": [
    "direction = input(\"Type 'encode' to encrypt, Type 'decode' to decrypt  :  \\n\").lower()\n",
    "text = input(\"Type Your Message  :  \\n\").lower()\n",
    "shift = int(input('Type the shift number  :  \\n'))\n",
    "\n",
    "if shift>25:\n",
    "    shift = shift % 25\n",
    "    \n",
    "def caesar(start_text, shift_amount, cipher_direction):\n",
    "    end_text = ''\n",
    "    for letter in start_text:\n",
    "        position = alphabet.index(letter)\n",
    "        if cipher_direction == 'decode':\n",
    "            shift_amount *= -1\n",
    "        new_position = position + shift_amount\n",
    "        end_text += alphabet[new_position]\n",
    "    print(f\"The {cipher_direction}d Text is {end_text}\")\n",
    "\n",
    "caesar(start_text=text, shift_amount= shift, cipher_direction= direction)"
   ]
  },
  {
   "cell_type": "code",
   "execution_count": 9,
   "id": "9f18c9e3",
   "metadata": {},
   "outputs": [
    {
     "name": "stdout",
     "output_type": "stream",
     "text": [
      "The encoded Text is mjqqt\n"
     ]
    }
   ],
   "source": []
  },
  {
   "cell_type": "markdown",
   "id": "574e5b05",
   "metadata": {},
   "source": [
    "# Final Version"
   ]
  },
  {
   "cell_type": "code",
   "execution_count": 16,
   "id": "7095f29a",
   "metadata": {},
   "outputs": [
    {
     "name": "stdout",
     "output_type": "stream",
     "text": [
      "           \n",
      " ,adPPYba, ,adPPYYba,  ,adPPYba, ,adPPYba, ,adPPYYba, 8b,dPPYba,  \n",
      "a8\"     \"\" \"\"     `Y8 a8P_____88 I8[    \"\" \"\"     `Y8 88P'   \"Y8  \n",
      "8b         ,adPPPPP88 8PP\"  `\"Y8ba,  ,adPPPPP88 88          \n",
      "\"8a,   ,aa 88,    ,88 \"8b,   ,aa aa    ]8I 88,    ,88 88          \n",
      " `\"Ybbd8\"' `\"8bbdP\"Y8  `\"Ybbd8\"' `\"YbbdP\"' `\"8bbdP\"Y8 88   \n",
      "            88             88                                 \n",
      "           \"\"             88                                 \n",
      "                          88                                 \n",
      " ,adPPYba, 88 8b,dPPYba,  88,dPPYba,   ,adPPYba, 8b,dPPYba,  \n",
      "a8\"     \"\" 88 88P'    \"8a 88P'    \"8a a8P_____88 88P'   \"Y8  \n",
      "8b         88 88       d8 88       88 8PP\" 88          \n",
      "\"8a,   ,aa 88 88b,   ,a8\" 88       88 \"8b,   ,aa 88          \n",
      " `\"Ybbd8\"' 88 88`YbbdP\"'  88       88  `\"Ybbd8\"' 88          \n",
      "              88                                             \n",
      "              88           \n",
      "\n",
      "Type 'encode' to encrypt, Type 'decode' to decrypt  :  \n",
      "encode\n",
      "Type Your Message  :  \n",
      "i love you\n",
      "Type the shift number  :  \n",
      "123\n",
      "The encoded Text is f ilsb vlr\n",
      "Type 'Yes' if you want to go again. Otherwise Type 'No' \n",
      " yes\n",
      "Type 'encode' to encrypt, Type 'decode' to decrypt  :  \n",
      "encode\n",
      "Type Your Message  :  \n",
      "dejidojcicj\n",
      "Type the shift number  :  \n",
      "5\n",
      "The encoded Text is ijonitohnho\n",
      "Type 'Yes' if you want to go again. Otherwise Type 'No' \n",
      " no\n",
      "GoodBye\n"
     ]
    }
   ],
   "source": [
    "print(logo)\n",
    "def caesar(start_text, shift_amount, cipher_direction):\n",
    "    end_text = ''\n",
    "    if cipher_direction == 'decode':\n",
    "        shift_amount *= -1\n",
    "    for char in start_text:\n",
    "        if char in alphabet:\n",
    "            position = alphabet.index(char)\n",
    "            new_position = position + shift_amount\n",
    "            end_text += alphabet[new_position]\n",
    "        else:\n",
    "            end_text += char\n",
    "            \n",
    "    print(f\"The {cipher_direction}d Text is {end_text}\")\n",
    "\n",
    "    \n",
    "\n",
    "should_continue = True\n",
    "\n",
    "while should_continue:\n",
    "    direction = input(\"Type 'encode' to encrypt, Type 'decode' to decrypt  :  \\n\").lower()\n",
    "    text = input(\"Type Your Message  :  \\n\").lower()\n",
    "    shift = int(input('Type the shift number  :  \\n'))\n",
    "    if shift>25:\n",
    "        shift = shift % 25\n",
    "        \n",
    "    caesar(start_text=text, shift_amount= shift, cipher_direction= direction)\n",
    "    result = input(\"Type 'Yes' if you want to go again. Otherwise Type 'No' \\n \").lower()\n",
    "    if result == 'no':\n",
    "        should_continue = False\n",
    "        print(\"GoodBye\")\n",
    "        "
   ]
  },
  {
   "cell_type": "code",
   "execution_count": null,
   "id": "28e7fb77",
   "metadata": {},
   "outputs": [],
   "source": []
  }
 ],
 "metadata": {
  "kernelspec": {
   "display_name": "Python 3",
   "language": "python",
   "name": "python3"
  },
  "language_info": {
   "codemirror_mode": {
    "name": "ipython",
    "version": 3
   },
   "file_extension": ".py",
   "mimetype": "text/x-python",
   "name": "python",
   "nbconvert_exporter": "python",
   "pygments_lexer": "ipython3",
   "version": "3.8.8"
  }
 },
 "nbformat": 4,
 "nbformat_minor": 5
}
