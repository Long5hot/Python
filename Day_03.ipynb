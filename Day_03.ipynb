{
 "cells": [
  {
   "cell_type": "code",
   "execution_count": 1,
   "id": "07b20cd4",
   "metadata": {},
   "outputs": [
    {
     "name": "stdout",
     "output_type": "stream",
     "text": [
      "Which number you want to know59\n",
      "Its ODD\n"
     ]
    }
   ],
   "source": [
    "number = int(input('Which number you want to know'))\n",
    "\n",
    "if number%2==0:\n",
    "    print('Its even')\n",
    "else:\n",
    "    print('Its ODD')"
   ]
  },
  {
   "cell_type": "code",
   "execution_count": 4,
   "id": "42c9d9e4",
   "metadata": {},
   "outputs": [
    {
     "name": "stdout",
     "output_type": "stream",
     "text": [
      "Welcome to our WaterPark\n",
      "What is your height? in CM 150\n",
      "You can ride\n",
      "What is your age? 16\n",
      "Pay 10$\n"
     ]
    }
   ],
   "source": [
    "print('Welcome to our WaterPark')\n",
    "height = int(input('What is your height? in CM '))\n",
    "\n",
    "if height >= 120:\n",
    "    print('You can ride')\n",
    "    age = int(input('What is your age? '))\n",
    "    if age < 12:\n",
    "        print('Pay 5$')\n",
    "    elif age<=18:\n",
    "        print('Pay 10$')\n",
    "    else:\n",
    "        print('Pay 15$')\n",
    "else:\n",
    "    print('not yet')"
   ]
  },
  {
   "cell_type": "markdown",
   "id": "a4454554",
   "metadata": {},
   "source": [
    "## BMI Calculator"
   ]
  },
  {
   "cell_type": "code",
   "execution_count": 1,
   "id": "473e3e25",
   "metadata": {},
   "outputs": [
    {
     "name": "stdout",
     "output_type": "stream",
     "text": [
      "What is your height in M? 1.6\n",
      "What is your weight in KG? 78\n",
      "Your bmi is 30, You are obese\n"
     ]
    }
   ],
   "source": [
    "height = float(input('What is your height in M? '))\n",
    "weight = float(input('What is your weight in KG? '))\n",
    "\n",
    "bmi = round(weight/(height**2))\n",
    "\n",
    "if bmi < 18.5:\n",
    "    print(f'Your bmi is {bmi}, You are underweight ')\n",
    "elif bmi < 25:\n",
    "    print(f'Your bmi is {bmi}, you have normal weight')\n",
    "elif bmi < 30: \n",
    "    print(f'Your bmi is {bmi}, You are Overweight')\n",
    "elif bmi<35:\n",
    "    print(f'Your bmi is {bmi}, You are obese')\n",
    "else:\n",
    "    print('Fatso')\n"
   ]
  },
  {
   "cell_type": "markdown",
   "id": "2edbb9a4",
   "metadata": {},
   "source": [
    "## Leap Year or not"
   ]
  },
  {
   "cell_type": "code",
   "execution_count": 4,
   "id": "31df0876",
   "metadata": {},
   "outputs": [
    {
     "name": "stdout",
     "output_type": "stream",
     "text": [
      "Enter a year..2020\n",
      "2020 is leap year.\n"
     ]
    }
   ],
   "source": [
    "year = int(input('Enter a year..'))\n",
    "\n",
    "\n",
    "if year % 4 ==0:\n",
    "    \n",
    "    if year % 100 ==0:\n",
    "        \n",
    "        if year % 400 == 0:\n",
    "            print(f'{year} is leap year')\n",
    "        else:\n",
    "            print(f'{year} is not a leap year')\n",
    "            \n",
    "    else:\n",
    "        print(f'{year} is leap year.')\n",
    "        \n",
    "else:\n",
    "    print(f'{year} is not a leap year')"
   ]
  },
  {
   "cell_type": "markdown",
   "id": "83c32266",
   "metadata": {},
   "source": [
    "## Waterpark Ride"
   ]
  },
  {
   "cell_type": "code",
   "execution_count": 8,
   "id": "147cdf96",
   "metadata": {
    "scrolled": true
   },
   "outputs": [
    {
     "name": "stdout",
     "output_type": "stream",
     "text": [
      "Welcome to Waterpark\n",
      "What is your height? in CM 145\n",
      "You can ride the rollercoaster...!\n",
      "What is your age? 12\n",
      "Youth tickets are 7$\n",
      "Do you want photo taken? Y or NN\n",
      "Your final bill would be $7\n"
     ]
    }
   ],
   "source": [
    "print('Welcome to Waterpark')\n",
    "\n",
    "height = int(input('What is your height? in CM '))\n",
    "\n",
    "bill = 0\n",
    "\n",
    "if height >= 120:\n",
    "    print('You can ride the rollercoaster...!')\n",
    "    age = int(input('What is your age? '))\n",
    "    \n",
    "    if age < 12:\n",
    "        bill = 5\n",
    "        print('Child tickets are 5$')\n",
    "        \n",
    "    elif age<=18:\n",
    "        bill = 7\n",
    "        print('Youth tickets are 7$')\n",
    "    \n",
    "    else:\n",
    "        bill = 12\n",
    "        print('Adults ticketes are 12$')\n",
    "        \n",
    "    want_photo = input('Do you want photo taken? Y or N')\n",
    "    if want_photo == 'Y':\n",
    "        bill += 3\n",
    "    \n",
    "    print(f'Your final bill would be ${bill}')\n",
    "        \n",
    "else:\n",
    "    print('not yet')"
   ]
  },
  {
   "cell_type": "markdown",
   "id": "eac58f6d",
   "metadata": {},
   "source": [
    "## Pizza Order"
   ]
  },
  {
   "cell_type": "code",
   "execution_count": 12,
   "id": "e7558841",
   "metadata": {},
   "outputs": [
    {
     "name": "stdout",
     "output_type": "stream",
     "text": [
      "Welcome to the pizza dilivery\n",
      "What size pizza do you want..? S,M or L :M\n",
      "Do you want to add pepperoni Y or N  Y\n",
      "Do you want to add extra cheese Y or N  N\n",
      "Your final bill would be $23\n"
     ]
    }
   ],
   "source": [
    "print('Welcome to the pizza dilivery')\n",
    "\n",
    "size = input('What size pizza do you want..? S,M or L :')\n",
    "add_pepperoni = input('Do you want to add pepperoni Y or N  ')\n",
    "extra_cheese = input('Do you want to add extra cheese Y or N  ')\n",
    "\n",
    "bill = 0\n",
    "\n",
    "if size == 'S':\n",
    "    bill += 15\n",
    "    if add_pepperoni == 'Y':\n",
    "        bill+=2\n",
    "        if extra_cheese == 'Y':\n",
    "            bill+=1\n",
    "    else:\n",
    "        if extra_cheese == 'Y':\n",
    "            bill+=1\n",
    "        \n",
    "elif size == 'M':\n",
    "    bill += 20\n",
    "    if add_pepperoni == 'Y':\n",
    "        bill+=3\n",
    "        if extra_cheese == 'Y':\n",
    "            bill+=1\n",
    "    else:\n",
    "        if extra_cheese == 'Y':\n",
    "            bill+=1\n",
    "    \n",
    "            \n",
    "elif size == 'L':\n",
    "    bill += 25\n",
    "    if add_pepperoni == 'Y':\n",
    "        bill+=3\n",
    "        if extra_cheese == 'Y':\n",
    "            bill+=1\n",
    "    else:\n",
    "        if extra_cheese == 'Y':\n",
    "            bill+=1\n",
    "            \n",
    "else:\n",
    "    print('please select S,M or L')\n",
    "\n",
    "print(f'Your final bill would be ${bill}')"
   ]
  },
  {
   "cell_type": "code",
   "execution_count": 13,
   "id": "2ffe1e71",
   "metadata": {},
   "outputs": [
    {
     "name": "stdout",
     "output_type": "stream",
     "text": [
      "Welcome to the pizza dilivery\n",
      "What size pizza do you want..? S,M or L :L\n",
      "Do you want to add pepperoni Y or N  N\n",
      "Do you want to add extra cheese Y or N  N\n",
      "Your final bill would be $25\n"
     ]
    }
   ],
   "source": [
    "print('Welcome to the pizza dilivery')\n",
    "\n",
    "size = input('What size pizza do you want..? S,M or L :')\n",
    "add_pepperoni = input('Do you want to add pepperoni Y or N  ')\n",
    "extra_cheese = input('Do you want to add extra cheese Y or N  ')\n",
    "\n",
    "bill = 0\n",
    "\n",
    "if size == 'S':\n",
    "    bill+=15\n",
    "elif size == 'M':\n",
    "    bill +=20\n",
    "elif size == 'L':\n",
    "    bill+=25\n",
    "else:\n",
    "    print('please select S,M or L')\n",
    "\n",
    "if add_pepperoni == 'Y':\n",
    "    if size == 'S':\n",
    "        bill +=2\n",
    "    else:\n",
    "        bill += 3\n",
    "\n",
    "if extra_cheese == 'Y':\n",
    "    bill+=1\n",
    "    \n",
    "print(f'Your final bill would be ${bill}')"
   ]
  },
  {
   "cell_type": "markdown",
   "id": "6677f0b8",
   "metadata": {},
   "source": [
    "## Midlife Crisis"
   ]
  },
  {
   "cell_type": "code",
   "execution_count": null,
   "id": "f950fd91",
   "metadata": {},
   "outputs": [],
   "source": [
    "print('Welcome to Waterpark')\n",
    "\n",
    "height = int(input('What is your height? in CM '))\n",
    "\n",
    "bill = 0\n",
    "\n",
    "if height >= 120:\n",
    "    print('You can ride the rollercoaster...!')\n",
    "    age = int(input('What is your age? '))\n",
    "    \n",
    "    if age < 12:\n",
    "        bill = 5\n",
    "        print('Child tickets are 5$')\n",
    "        \n",
    "    elif age<=18:\n",
    "        bill = 7\n",
    "        print('Youth tickets are 7$')\n",
    "        \n",
    "    elif age >=45 and age<=55:\n",
    "        print('Everything is going to be okay, have free ride on us.')\n",
    "    \n",
    "    else:\n",
    "        bill = 12\n",
    "        print('Adults ticketes are 12$')\n",
    "        \n",
    "    want_photo = input('Do you want photo taken? Y or N')\n",
    "    if want_photo == 'Y':\n",
    "        bill += 3\n",
    "    \n",
    "    print(f'Your final bill would be ${bill}')\n",
    "        \n",
    "else:\n",
    "    print('not yet')"
   ]
  },
  {
   "cell_type": "markdown",
   "id": "b58508ad",
   "metadata": {},
   "source": [
    "## Love Calculator"
   ]
  },
  {
   "cell_type": "code",
   "execution_count": 18,
   "id": "dbf7f28e",
   "metadata": {},
   "outputs": [
    {
     "name": "stdout",
     "output_type": "stream",
     "text": [
      "Welcome to our Love Calculator.\n",
      "Give the first name ian uchiha\n",
      "Give the second name kylie jenner\n",
      "your love score is  54\n"
     ]
    }
   ],
   "source": [
    "print('Welcome to our Love Calculator.')\n",
    "name1 = input('Give the first name ')\n",
    "name2 = input('Give the second name ')\n",
    "\n",
    "combined = name1 + name2\n",
    "\n",
    "lower_case_comibined = combined.lower()\n",
    "\n",
    "t = lower_case_comibined.count('t')\n",
    "r = lower_case_comibined.count('r')\n",
    "u = lower_case_comibined.count('u')\n",
    "e = lower_case_comibined.count('e')\n",
    "\n",
    "true = t + r + u + e\n",
    "\n",
    "l = lower_case_comibined.count('l')\n",
    "o = lower_case_comibined.count('o')\n",
    "v = lower_case_comibined.count('v')\n",
    "e = lower_case_comibined.count('e')\n",
    "\n",
    "love = l + o + v + e\n",
    "\n",
    "love_score = str(true) + str(love)\n",
    "\n",
    "integer_score= int(love_score)\n",
    "\n",
    "if integer_score>90 or integer_score <10 :\n",
    "    print(f'your love score is  {love_score}, you go together like coke and mentos')\n",
    "\n",
    "if integer_score >= 40 and integer_score <=50:\n",
    "    print(f'your love score is  {love_score}, you are alright together')\n",
    "else:\n",
    "    print(f'your love score is  {love_score}')"
   ]
  },
  {
   "cell_type": "markdown",
   "id": "324f8d82",
   "metadata": {},
   "source": [
    "## Dungeons & Dragons"
   ]
  },
  {
   "cell_type": "code",
   "execution_count": 22,
   "id": "81764bb2",
   "metadata": {},
   "outputs": [
    {
     "name": "stdout",
     "output_type": "stream",
     "text": [
      "\n",
      "*******************************************************************************\n",
      "          |                   |                  |                     |\n",
      " _________|________________.=\"\"_;=.______________|_____________________|_______\n",
      "|                   |  ,-\"_,=\"\"     `\"=.|                  |\n",
      "|___________________|__\"=._o`\"-._        `\"=.______________|___________________\n",
      "          |                `\"=._o`\"=._      _`\"=._                     |\n",
      " _________|_____________________:=._o \"=._.\"_.-=\"'\"=.__________________|_______\n",
      "|                   |    __.--\" , ; `\"=._o.\" ,-\"\"\"-._ \".   |\n",
      "|___________________|_._\"  ,. .` ` `` ,  `\"-._\"-._   \". '__|___________________\n",
      "          |           |o`\"=._` , \"` `; .\". ,  \"-._\"-._; ;              |\n",
      " _________|___________| ;`-.o`\"=._; .\" ` '`.\"\\` . \"-._ /_______________|_______\n",
      "|                   | |o;    `\"-.o`\"=._``  '` \" ,__.--o;   |\n",
      "|___________________|_| ;     (#) `-.o `\"=.`_.--\"_o.-; ;___|___________________\n",
      "____/______/______/___|o;._    \"      `\".o|o_.--\"    ;o;____/______/______/____\n",
      "/______/______/______/_\"=._o--._        ; | ;        ; ;/______/______/______/_\n",
      "____/______/______/______/__\"=._o--._   ;o|o;     _._;o;____/______/______/____\n",
      "/______/______/______/______/____\"=._o._; | ;_.--\"o.--\"_/______/______/______/_\n",
      "____/______/______/______/______/_____\"=.o|o_.--\"\"___/______/______/______/____\n",
      "/______/______/______/______/______/______/______/______/______/______/[TomekK]\n",
      "*******************************************************************************\n",
      "\n",
      "Welcome to Dungeons & Dragons\n",
      "Your mission is to find the treasure\n",
      "You're at a crossroad, where do you want to go \"left\" or \"right\" left\n",
      "You come to a lake. There is an island in the middle of the lake, Type 'wait' if you want to wait or 'swim' if you want to go on swimming\n",
      "lake\n",
      "Got attacked by angry crocodile, Game Over.\n"
     ]
    }
   ],
   "source": [
    "print('''\n",
    "*******************************************************************************\n",
    "          |                   |                  |                     |\n",
    " _________|________________.=\"\"_;=.______________|_____________________|_______\n",
    "|                   |  ,-\"_,=\"\"     `\"=.|                  |\n",
    "|___________________|__\"=._o`\"-._        `\"=.______________|___________________\n",
    "          |                `\"=._o`\"=._      _`\"=._                     |\n",
    " _________|_____________________:=._o \"=._.\"_.-=\"'\"=.__________________|_______\n",
    "|                   |    __.--\" , ; `\"=._o.\" ,-\"\"\"-._ \".   |\n",
    "|___________________|_._\"  ,. .` ` `` ,  `\"-._\"-._   \". '__|___________________\n",
    "          |           |o`\"=._` , \"` `; .\". ,  \"-._\"-._; ;              |\n",
    " _________|___________| ;`-.o`\"=._; .\" ` '`.\"\\` . \"-._ /_______________|_______\n",
    "|                   | |o;    `\"-.o`\"=._``  '` \" ,__.--o;   |\n",
    "|___________________|_| ;     (#) `-.o `\"=.`_.--\"_o.-; ;___|___________________\n",
    "____/______/______/___|o;._    \"      `\".o|o_.--\"    ;o;____/______/______/____\n",
    "/______/______/______/_\"=._o--._        ; | ;        ; ;/______/______/______/_\n",
    "____/______/______/______/__\"=._o--._   ;o|o;     _._;o;____/______/______/____\n",
    "/______/______/______/______/____\"=._o._; | ;_.--\"o.--\"_/______/______/______/_\n",
    "____/______/______/______/______/_____\"=.o|o_.--\"\"___/______/______/______/____\n",
    "/______/______/______/______/______/______/______/______/______/______/[TomekK]\n",
    "*******************************************************************************\n",
    "''')\n",
    "\n",
    "# get more Ascii art at ascii.co.uk/art\n",
    "\n",
    "print('Welcome to Dungeons & Dragons')\n",
    "\n",
    "print('Your mission is to find the treasure')\n",
    "\n",
    "choice1 = input('You\\'re at a crossroad, where do you want to go \"left\" or \"right\" ').lower()\n",
    "\n",
    "if choice1 =='left':\n",
    "    # continue the game\n",
    "    choice2 = input('You come to a lake. There is an island in the middle of the lake, Type \\'wait\\' if you want to wait or \\'swim\\' if you want to go on swimming\\n').lower()\n",
    "    if choice2 == 'wait':\n",
    "        #continue the game\n",
    "        choice3 = input('You arrive at island unharmed. There is a house with 3 doors. Red, Yellow and Blue. Which colour do yu pick.\\n').lower()\n",
    "        if choice3 =='red':\n",
    "            print('Room full of fire, Game over.')\n",
    "        elif choice3 =='yellow':\n",
    "            print('You found the treasure, You win!')\n",
    "            \n",
    "        elif choice3 == 'blue':\n",
    "            print('Room full of beasts game over.')\n",
    "        else:\n",
    "            print('You are dumb.')\n",
    "        \n",
    "    else:\n",
    "        print('Got attacked by angry crocodile, Game Over.')\n",
    "    \n",
    "else:\n",
    "    print('You fellm into a hole. Game Over')\n",
    "\n",
    "    \n",
    "    "
   ]
  },
  {
   "cell_type": "code",
   "execution_count": null,
   "id": "eaeb19a2",
   "metadata": {},
   "outputs": [],
   "source": []
  }
 ],
 "metadata": {
  "kernelspec": {
   "display_name": "Python 3",
   "language": "python",
   "name": "python3"
  },
  "language_info": {
   "codemirror_mode": {
    "name": "ipython",
    "version": 3
   },
   "file_extension": ".py",
   "mimetype": "text/x-python",
   "name": "python",
   "nbconvert_exporter": "python",
   "pygments_lexer": "ipython3",
   "version": "3.8.8"
  }
 },
 "nbformat": 4,
 "nbformat_minor": 5
}
