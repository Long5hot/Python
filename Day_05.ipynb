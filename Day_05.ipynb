{
 "cells": [
  {
   "cell_type": "code",
   "execution_count": 2,
   "id": "72802b57",
   "metadata": {},
   "outputs": [
    {
     "name": "stdout",
     "output_type": "stream",
     "text": [
      "Apple\n",
      "ApplePie\n",
      "Peach\n",
      "PeachPie\n",
      "Pear\n",
      "PearPie\n"
     ]
    }
   ],
   "source": [
    "fruits = ['Apple', 'Peach', 'Pear']\n",
    "\n",
    "for fruit in fruits:\n",
    "    print(fruit)\n",
    "    print(fruit + 'Pie')"
   ]
  },
  {
   "cell_type": "markdown",
   "id": "e0f20021",
   "metadata": {},
   "source": [
    "## Average Height"
   ]
  },
  {
   "cell_type": "code",
   "execution_count": 14,
   "id": "17a17ffd",
   "metadata": {},
   "outputs": [
    {
     "name": "stdout",
     "output_type": "stream",
     "text": [
      "Input a list of student hights12 14 15 45\n",
      "22\n"
     ]
    }
   ],
   "source": [
    "# Find Average height without using len and sum function\n",
    "\n",
    "student_heights = input('Input a list of student hights').split()\n",
    "\n",
    "for n in range(0, len(student_heights)):\n",
    "    student_heights[n] = int(student_heights[n])\n",
    "\n",
    "\n",
    "total_height = 0\n",
    "for height in student_heights:\n",
    "    total_height = total_height + height\n",
    "# print(total_height)\n",
    "\n",
    "\n",
    "number_of_students = 0\n",
    "for students in student_heights :\n",
    "    number_of_students += 1\n",
    "\n",
    "average_height = round(total_height/number_of_students)\n",
    "\n",
    "print(average_height)"
   ]
  },
  {
   "cell_type": "markdown",
   "id": "c92fd672",
   "metadata": {},
   "source": [
    "## Highest Score"
   ]
  },
  {
   "cell_type": "code",
   "execution_count": 17,
   "id": "2f91afd3",
   "metadata": {},
   "outputs": [
    {
     "name": "stdout",
     "output_type": "stream",
     "text": [
      "Input a list of student scores12 25 89 56 45 25 5  8845 1215\n",
      "8845\n"
     ]
    }
   ],
   "source": [
    "student_scores = input('Input a list of student scores').split()\n",
    "\n",
    "for n in range(0, len(student_scores)):\n",
    "    student_scores[n] = int(student_scores[n])\n",
    "    \n",
    "# max(student_scores)\n",
    "\n",
    "highest_score = 0\n",
    "\n",
    "for score in student_scores:\n",
    "    if score > highest_score:\n",
    "        highest_score = score\n",
    "\n",
    "print(highest_score)"
   ]
  },
  {
   "cell_type": "code",
   "execution_count": 25,
   "id": "20e61e51",
   "metadata": {},
   "outputs": [
    {
     "data": {
      "text/plain": [
       "5050"
      ]
     },
     "execution_count": 25,
     "metadata": {},
     "output_type": "execute_result"
    }
   ],
   "source": [
    "total = 0\n",
    "for number in range(1,101):\n",
    "    total += number\n",
    "total"
   ]
  },
  {
   "cell_type": "code",
   "execution_count": 31,
   "id": "0f8dbbb6",
   "metadata": {},
   "outputs": [
    {
     "name": "stdout",
     "output_type": "stream",
     "text": [
      "2550\n",
      "2550\n"
     ]
    }
   ],
   "source": [
    "total = 0\n",
    "for number in range(1,101):\n",
    "    if number % 2 == 0:\n",
    "        total += number\n",
    "\n",
    "print(total)\n",
    "\n",
    "total2 = 0\n",
    "for number2 in range(2,101,2):\n",
    "    total2 += number2\n",
    "print(total2)"
   ]
  },
  {
   "cell_type": "markdown",
   "id": "9e84fff6",
   "metadata": {},
   "source": [
    "## Most asked interview question"
   ]
  },
  {
   "cell_type": "markdown",
   "id": "429e7af3",
   "metadata": {},
   "source": [
    "## FizzBuzz"
   ]
  },
  {
   "cell_type": "code",
   "execution_count": 32,
   "id": "f7037d09",
   "metadata": {},
   "outputs": [
    {
     "name": "stdout",
     "output_type": "stream",
     "text": [
      "1\n",
      "2\n",
      "Fizz\n",
      "4\n",
      "Buzz\n",
      "Fizz\n",
      "7\n",
      "8\n",
      "Fizz\n",
      "Buzz\n",
      "11\n",
      "Fizz\n",
      "13\n",
      "14\n",
      "FizzBuzz\n",
      "16\n",
      "17\n",
      "Fizz\n",
      "19\n",
      "Buzz\n",
      "Fizz\n",
      "22\n",
      "23\n",
      "Fizz\n",
      "Buzz\n",
      "26\n",
      "Fizz\n",
      "28\n",
      "29\n",
      "FizzBuzz\n",
      "31\n",
      "32\n",
      "Fizz\n",
      "34\n",
      "Buzz\n",
      "Fizz\n",
      "37\n",
      "38\n",
      "Fizz\n",
      "Buzz\n",
      "41\n",
      "Fizz\n",
      "43\n",
      "44\n",
      "FizzBuzz\n",
      "46\n",
      "47\n",
      "Fizz\n",
      "49\n",
      "Buzz\n",
      "Fizz\n",
      "52\n",
      "53\n",
      "Fizz\n",
      "Buzz\n",
      "56\n",
      "Fizz\n",
      "58\n",
      "59\n",
      "FizzBuzz\n",
      "61\n",
      "62\n",
      "Fizz\n",
      "64\n",
      "Buzz\n",
      "Fizz\n",
      "67\n",
      "68\n",
      "Fizz\n",
      "Buzz\n",
      "71\n",
      "Fizz\n",
      "73\n",
      "74\n",
      "FizzBuzz\n",
      "76\n",
      "77\n",
      "Fizz\n",
      "79\n",
      "Buzz\n",
      "Fizz\n",
      "82\n",
      "83\n",
      "Fizz\n",
      "Buzz\n",
      "86\n",
      "Fizz\n",
      "88\n",
      "89\n",
      "FizzBuzz\n",
      "91\n",
      "92\n",
      "Fizz\n",
      "94\n",
      "Buzz\n",
      "Fizz\n",
      "97\n",
      "98\n",
      "Fizz\n",
      "Buzz\n"
     ]
    }
   ],
   "source": [
    "for number in range(1,101):\n",
    "    if number % 3 == 0 and number % 5 ==0:\n",
    "        print('FizzBuzz')\n",
    "    elif number % 3 == 0:\n",
    "        print('Fizz')\n",
    "    elif number % 5 == 0:\n",
    "        print('Buzz')\n",
    "    else:\n",
    "        print(number)\n",
    "    "
   ]
  },
  {
   "cell_type": "markdown",
   "id": "a00df981",
   "metadata": {},
   "source": [
    "## Random Password Generator"
   ]
  },
  {
   "cell_type": "code",
   "execution_count": 41,
   "id": "f15d9453",
   "metadata": {
    "scrolled": true
   },
   "outputs": [
    {
     "name": "stdout",
     "output_type": "stream",
     "text": [
      "Welcome to the PyPassword Generator!\n",
      "How many letters would you like in your password?\n",
      "12\n",
      "How many symbols would you like?\n",
      "3\n",
      "How many numbers would you like?\n",
      "2\n",
      "['F', 'd', 'a', 'C', 'F', 'u', 'O', 'p', 'x', 'r', 'f', 'K', ')', ')', '%', '8', '7']\n",
      "['r', 'a', 'F', ')', 'p', 'f', 'C', 'd', 'x', 'F', 'K', ')', '7', 'u', '8', '%', 'O']\n",
      "Your password is : raF)pfCdxFK)7u8%O\n"
     ]
    }
   ],
   "source": [
    "import random\n",
    "letters = ['a', 'b', 'c', 'd', 'e', 'f', 'g', 'h', 'i', 'j', 'k', 'l', 'm', 'n', 'o', 'p', 'q', 'r', 's', 't', 'u', 'v', 'w', 'x', 'y', 'z', 'A', 'B', 'C', 'D', 'E', 'F', 'G', 'H', 'I', 'J', 'K', 'L', 'M', 'N', 'O', 'P', 'Q', 'R', 'S', 'T', 'U', 'V', 'W', 'X', 'Y', 'Z']\n",
    "numbers = ['0', '1', '2', '3', '4', '5', '6', '7', '8', '9']\n",
    "symbols = ['!', '#', '$', '%', '&', '(', ')', '*', '+']\n",
    "\n",
    "print(\"Welcome to the PyPassword Generator!\")\n",
    "nr_letters= int(input(\"How many letters would you like in your password?\\n\")) \n",
    "nr_symbols = int(input(f\"How many symbols would you like?\\n\"))\n",
    "nr_numbers = int(input(f\"How many numbers would you like?\\n\"))\n",
    "\n",
    "\n",
    "# Easy Level\n",
    "# password = ''\n",
    "\n",
    "# for char in range(1,nr_letters + 1):\n",
    "# #     random_char = random.choice(letters)\n",
    "# #     print(random_char, end = '')\n",
    "# #     password += random_char\n",
    "# #     print(password)\n",
    "\n",
    "#     password += random.choice(letters)\n",
    "    \n",
    "\n",
    "# for char in range(1, nr_symbols+1):\n",
    "#     password += random.choice(symbols)\n",
    "    \n",
    "# for char in range(1, nr_numbers + 1):\n",
    "#     password += random.choice(numbers)\n",
    "    \n",
    "# print(password)\n",
    "\n",
    "\n",
    "# Hard Level\n",
    "\n",
    "password_list = []\n",
    "\n",
    "for char in range(1,nr_letters + 1):\n",
    "    password_list.append(random.choice(letters))\n",
    "    \n",
    "for char in range(1, nr_symbols+1):\n",
    "    password_list += random.choice(symbols)\n",
    "    \n",
    "for char in range(1, nr_numbers + 1):\n",
    "    password_list += random.choice(numbers)\n",
    "    \n",
    "    \n",
    "print(password_list)\n",
    "random.shuffle(password_list)\n",
    "print(password_list)\n",
    "\n",
    "password = ''\n",
    "for char in password_list:\n",
    "    password += char\n",
    "\n",
    "print(f'Your password is : {password}')"
   ]
  },
  {
   "cell_type": "code",
   "execution_count": null,
   "id": "0e935892",
   "metadata": {},
   "outputs": [],
   "source": []
  }
 ],
 "metadata": {
  "kernelspec": {
   "display_name": "Python 3",
   "language": "python",
   "name": "python3"
  },
  "language_info": {
   "codemirror_mode": {
    "name": "ipython",
    "version": 3
   },
   "file_extension": ".py",
   "mimetype": "text/x-python",
   "name": "python",
   "nbconvert_exporter": "python",
   "pygments_lexer": "ipython3",
   "version": "3.8.8"
  }
 },
 "nbformat": 4,
 "nbformat_minor": 5
}
